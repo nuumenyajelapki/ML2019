{
 "cells": [
  {
   "cell_type": "code",
   "execution_count": 1,
   "metadata": {},
   "outputs": [],
   "source": [
    "import sklearn\n",
    "import pandas as pd\n",
    "from sklearn.model_selection import train_test_split\n",
    "from sklearn.neighbors import KNeighborsClassifier\n",
    "from sklearn.preprocessing import LabelEncoder\n",
    "import numpy as np\n",
    "from typing import Dict, Tuple\n",
    "from scipy import stats\n",
    "from sklearn.metrics import accuracy_score, balanced_accuracy_score\n",
    "from sklearn.metrics import precision_score, recall_score, f1_score, classification_report\n",
    "from sklearn.metrics import confusion_matrix\n",
    "from sklearn.metrics import mean_absolute_error, mean_squared_error, mean_squared_log_error, median_absolute_error, r2_score \n",
    "from sklearn.metrics import roc_curve, roc_auc_score\n",
    "import seaborn as sns\n",
    "import matplotlib.pyplot as plt\n",
    "from sklearn.model_selection import cross_val_score, cross_validate, KFold, LeaveOneOut, GridSearchCV,learning_curve,validation_curve\n",
    "import time\n",
    "%matplotlib inline \n",
    "sns.set(style=\"ticks\")"
   ]
  },
  {
   "cell_type": "code",
   "execution_count": 2,
   "metadata": {},
   "outputs": [],
   "source": [
    "data = pd.read_csv('NBA.csv', sep=\",\")"
   ]
  },
  {
   "cell_type": "code",
   "execution_count": 3,
   "metadata": {
    "scrolled": true
   },
   "outputs": [
    {
     "data": {
      "text/html": [
       "<div>\n",
       "<style scoped>\n",
       "    .dataframe tbody tr th:only-of-type {\n",
       "        vertical-align: middle;\n",
       "    }\n",
       "\n",
       "    .dataframe tbody tr th {\n",
       "        vertical-align: top;\n",
       "    }\n",
       "\n",
       "    .dataframe thead th {\n",
       "        text-align: right;\n",
       "    }\n",
       "</style>\n",
       "<table border=\"1\" class=\"dataframe\">\n",
       "  <thead>\n",
       "    <tr style=\"text-align: right;\">\n",
       "      <th></th>\n",
       "      <th>Active season</th>\n",
       "      <th>Player</th>\n",
       "      <th>Team</th>\n",
       "      <th>Conference</th>\n",
       "      <th>Date</th>\n",
       "      <th>Position</th>\n",
       "      <th>Height</th>\n",
       "      <th>Weight</th>\n",
       "      <th>Age</th>\n",
       "      <th>Draft Year</th>\n",
       "      <th>Seasons in league</th>\n",
       "      <th>Season</th>\n",
       "      <th>Season short</th>\n",
       "      <th>Real_value</th>\n",
       "    </tr>\n",
       "  </thead>\n",
       "  <tbody>\n",
       "    <tr>\n",
       "      <th>0</th>\n",
       "      <td>0</td>\n",
       "      <td>Micheal Ray Richardson</td>\n",
       "      <td>New Jersey Nets</td>\n",
       "      <td>NaN</td>\n",
       "      <td>Apr 14, 1985</td>\n",
       "      <td>PG</td>\n",
       "      <td>6-5</td>\n",
       "      <td>189</td>\n",
       "      <td>29</td>\n",
       "      <td>1978</td>\n",
       "      <td>6</td>\n",
       "      <td>1984-1985</td>\n",
       "      <td>1985</td>\n",
       "      <td>1.0</td>\n",
       "    </tr>\n",
       "    <tr>\n",
       "      <th>1</th>\n",
       "      <td>0</td>\n",
       "      <td>Derek Smith</td>\n",
       "      <td>Los Angeles Clippers</td>\n",
       "      <td>NaN</td>\n",
       "      <td>Apr 7, 1985</td>\n",
       "      <td>SG</td>\n",
       "      <td>6-6</td>\n",
       "      <td>205</td>\n",
       "      <td>23</td>\n",
       "      <td>1982</td>\n",
       "      <td>2</td>\n",
       "      <td>1984-1985</td>\n",
       "      <td>1985</td>\n",
       "      <td>1.0</td>\n",
       "    </tr>\n",
       "    <tr>\n",
       "      <th>2</th>\n",
       "      <td>0</td>\n",
       "      <td>Calvin Natt</td>\n",
       "      <td>Denver Nuggets</td>\n",
       "      <td>NaN</td>\n",
       "      <td>Apr 1, 1985</td>\n",
       "      <td>F</td>\n",
       "      <td>6-6</td>\n",
       "      <td>220</td>\n",
       "      <td>28</td>\n",
       "      <td>1979</td>\n",
       "      <td>5</td>\n",
       "      <td>1984-1985</td>\n",
       "      <td>1985</td>\n",
       "      <td>1.0</td>\n",
       "    </tr>\n",
       "    <tr>\n",
       "      <th>3</th>\n",
       "      <td>0</td>\n",
       "      <td>Kareem Abdul-Jabbar</td>\n",
       "      <td>Los Angeles Lakers</td>\n",
       "      <td>NaN</td>\n",
       "      <td>Mar 24, 1985</td>\n",
       "      <td>C</td>\n",
       "      <td>7-2</td>\n",
       "      <td>225</td>\n",
       "      <td>37</td>\n",
       "      <td>1969</td>\n",
       "      <td>15</td>\n",
       "      <td>1984-1985</td>\n",
       "      <td>1985</td>\n",
       "      <td>1.0</td>\n",
       "    </tr>\n",
       "    <tr>\n",
       "      <th>4</th>\n",
       "      <td>0</td>\n",
       "      <td>Larry Bird</td>\n",
       "      <td>Boston Celtics</td>\n",
       "      <td>NaN</td>\n",
       "      <td>Mar 17, 1985</td>\n",
       "      <td>SF</td>\n",
       "      <td>6-9</td>\n",
       "      <td>220</td>\n",
       "      <td>28</td>\n",
       "      <td>1978</td>\n",
       "      <td>5</td>\n",
       "      <td>1984-1985</td>\n",
       "      <td>1985</td>\n",
       "      <td>1.0</td>\n",
       "    </tr>\n",
       "  </tbody>\n",
       "</table>\n",
       "</div>"
      ],
      "text/plain": [
       "   Active season                  Player                  Team Conference  \\\n",
       "0              0  Micheal Ray Richardson       New Jersey Nets        NaN   \n",
       "1              0             Derek Smith  Los Angeles Clippers        NaN   \n",
       "2              0             Calvin Natt        Denver Nuggets        NaN   \n",
       "3              0     Kareem Abdul-Jabbar    Los Angeles Lakers        NaN   \n",
       "4              0              Larry Bird        Boston Celtics        NaN   \n",
       "\n",
       "           Date Position Height  Weight  Age  Draft Year  Seasons in league  \\\n",
       "0  Apr 14, 1985       PG    6-5     189   29        1978                  6   \n",
       "1   Apr 7, 1985       SG    6-6     205   23        1982                  2   \n",
       "2   Apr 1, 1985        F    6-6     220   28        1979                  5   \n",
       "3  Mar 24, 1985        C    7-2     225   37        1969                 15   \n",
       "4  Mar 17, 1985       SF    6-9     220   28        1978                  5   \n",
       "\n",
       "      Season  Season short  Real_value  \n",
       "0  1984-1985          1985         1.0  \n",
       "1  1984-1985          1985         1.0  \n",
       "2  1984-1985          1985         1.0  \n",
       "3  1984-1985          1985         1.0  \n",
       "4  1984-1985          1985         1.0  "
      ]
     },
     "execution_count": 3,
     "metadata": {},
     "output_type": "execute_result"
    }
   ],
   "source": [
    "data.head()"
   ]
  },
  {
   "cell_type": "code",
   "execution_count": 4,
   "metadata": {
    "scrolled": true
   },
   "outputs": [
    {
     "name": "stderr",
     "output_type": "stream",
     "text": [
      "C:\\Users\\stud61\\Anaconda3\\lib\\site-packages\\sklearn\\preprocessing\\label.py:235: DataConversionWarning: A column-vector y was passed when a 1d array was expected. Please change the shape of y to (n_samples, ), for example using ravel().\n",
      "  y = column_or_1d(y, warn=True)\n"
     ]
    },
    {
     "data": {
      "text/html": [
       "<div>\n",
       "<style scoped>\n",
       "    .dataframe tbody tr th:only-of-type {\n",
       "        vertical-align: middle;\n",
       "    }\n",
       "\n",
       "    .dataframe tbody tr th {\n",
       "        vertical-align: top;\n",
       "    }\n",
       "\n",
       "    .dataframe thead th {\n",
       "        text-align: right;\n",
       "    }\n",
       "</style>\n",
       "<table border=\"1\" class=\"dataframe\">\n",
       "  <thead>\n",
       "    <tr style=\"text-align: right;\">\n",
       "      <th></th>\n",
       "      <th>Active season</th>\n",
       "      <th>Player</th>\n",
       "      <th>Team</th>\n",
       "      <th>Conference</th>\n",
       "      <th>Date</th>\n",
       "      <th>Position</th>\n",
       "      <th>Height</th>\n",
       "      <th>Weight</th>\n",
       "      <th>Age</th>\n",
       "      <th>Draft Year</th>\n",
       "      <th>Seasons in league</th>\n",
       "      <th>Season</th>\n",
       "      <th>Season short</th>\n",
       "      <th>Real_value</th>\n",
       "    </tr>\n",
       "  </thead>\n",
       "  <tbody>\n",
       "    <tr>\n",
       "      <th>0</th>\n",
       "      <td>0</td>\n",
       "      <td>Micheal Ray Richardson</td>\n",
       "      <td>New Jersey Nets</td>\n",
       "      <td>NaN</td>\n",
       "      <td>Apr 14, 1985</td>\n",
       "      <td>PG</td>\n",
       "      <td>6-5</td>\n",
       "      <td>189</td>\n",
       "      <td>29</td>\n",
       "      <td>1978</td>\n",
       "      <td>6</td>\n",
       "      <td>1984-1985</td>\n",
       "      <td>1985</td>\n",
       "      <td>1</td>\n",
       "    </tr>\n",
       "    <tr>\n",
       "      <th>1</th>\n",
       "      <td>0</td>\n",
       "      <td>Derek Smith</td>\n",
       "      <td>Los Angeles Clippers</td>\n",
       "      <td>NaN</td>\n",
       "      <td>Apr 7, 1985</td>\n",
       "      <td>SG</td>\n",
       "      <td>6-6</td>\n",
       "      <td>205</td>\n",
       "      <td>23</td>\n",
       "      <td>1982</td>\n",
       "      <td>2</td>\n",
       "      <td>1984-1985</td>\n",
       "      <td>1985</td>\n",
       "      <td>1</td>\n",
       "    </tr>\n",
       "    <tr>\n",
       "      <th>2</th>\n",
       "      <td>0</td>\n",
       "      <td>Calvin Natt</td>\n",
       "      <td>Denver Nuggets</td>\n",
       "      <td>NaN</td>\n",
       "      <td>Apr 1, 1985</td>\n",
       "      <td>F</td>\n",
       "      <td>6-6</td>\n",
       "      <td>220</td>\n",
       "      <td>28</td>\n",
       "      <td>1979</td>\n",
       "      <td>5</td>\n",
       "      <td>1984-1985</td>\n",
       "      <td>1985</td>\n",
       "      <td>1</td>\n",
       "    </tr>\n",
       "    <tr>\n",
       "      <th>3</th>\n",
       "      <td>0</td>\n",
       "      <td>Kareem Abdul-Jabbar</td>\n",
       "      <td>Los Angeles Lakers</td>\n",
       "      <td>NaN</td>\n",
       "      <td>Mar 24, 1985</td>\n",
       "      <td>C</td>\n",
       "      <td>7-2</td>\n",
       "      <td>225</td>\n",
       "      <td>37</td>\n",
       "      <td>1969</td>\n",
       "      <td>15</td>\n",
       "      <td>1984-1985</td>\n",
       "      <td>1985</td>\n",
       "      <td>1</td>\n",
       "    </tr>\n",
       "    <tr>\n",
       "      <th>4</th>\n",
       "      <td>0</td>\n",
       "      <td>Larry Bird</td>\n",
       "      <td>Boston Celtics</td>\n",
       "      <td>NaN</td>\n",
       "      <td>Mar 17, 1985</td>\n",
       "      <td>SF</td>\n",
       "      <td>6-9</td>\n",
       "      <td>220</td>\n",
       "      <td>28</td>\n",
       "      <td>1978</td>\n",
       "      <td>5</td>\n",
       "      <td>1984-1985</td>\n",
       "      <td>1985</td>\n",
       "      <td>1</td>\n",
       "    </tr>\n",
       "  </tbody>\n",
       "</table>\n",
       "</div>"
      ],
      "text/plain": [
       "   Active season                  Player                  Team Conference  \\\n",
       "0              0  Micheal Ray Richardson       New Jersey Nets        NaN   \n",
       "1              0             Derek Smith  Los Angeles Clippers        NaN   \n",
       "2              0             Calvin Natt        Denver Nuggets        NaN   \n",
       "3              0     Kareem Abdul-Jabbar    Los Angeles Lakers        NaN   \n",
       "4              0              Larry Bird        Boston Celtics        NaN   \n",
       "\n",
       "           Date Position Height  Weight  Age  Draft Year  Seasons in league  \\\n",
       "0  Apr 14, 1985       PG    6-5     189   29        1978                  6   \n",
       "1   Apr 7, 1985       SG    6-6     205   23        1982                  2   \n",
       "2   Apr 1, 1985        F    6-6     220   28        1979                  5   \n",
       "3  Mar 24, 1985        C    7-2     225   37        1969                 15   \n",
       "4  Mar 17, 1985       SF    6-9     220   28        1978                  5   \n",
       "\n",
       "      Season  Season short  Real_value  \n",
       "0  1984-1985          1985           1  \n",
       "1  1984-1985          1985           1  \n",
       "2  1984-1985          1985           1  \n",
       "3  1984-1985          1985           1  \n",
       "4  1984-1985          1985           1  "
      ]
     },
     "execution_count": 4,
     "metadata": {},
     "output_type": "execute_result"
    }
   ],
   "source": [
    "ClassCoded = data[['Real_value']]\n",
    "LaEnc = LabelEncoder()\n",
    "data[['Real_value']] = pd.DataFrame(LaEnc.fit_transform(ClassCoded), columns=['Real_value'])\n",
    "data.head()"
   ]
  },
  {
   "cell_type": "markdown",
   "metadata": {},
   "source": [
    "<h3>Разделение датасета на обучающий (train) и тестовый (test) набор</h3>"
   ]
  },
  {
   "cell_type": "code",
   "execution_count": 5,
   "metadata": {
    "scrolled": true
   },
   "outputs": [
    {
     "name": "stdout",
     "output_type": "stream",
     "text": [
      "Число строк обучающего и тестового наборов:\n",
      "  Обучающий: 830 (69.9242 %)\n",
      "  Тестовый: 357 (30.0758 %)\n"
     ]
    }
   ],
   "source": [
    "trainX, testX, trainY, testY = train_test_split(data[['Weight','Age','Seasons in league', 'Real_value']],data['Real_value'], test_size=0.3, random_state = 1)\n",
    "print('Число строк обучающего и тестового наборов:')\n",
    "print('  Обучающий: {0} ({1} %)'.format(trainX.shape[0], round(trainX.shape[0]/data.shape[0]*100,4)))\n",
    "print('  Тестовый: {0} ({1} %)'.format(testX.shape[0], round(testX.shape[0]/data.shape[0]*100,4)))"
   ]
  },
  {
   "cell_type": "markdown",
   "metadata": {},
   "source": [
    "<h3>Обучение 3 моделей с различным числом соседей</h3>"
   ]
  },
  {
   "cell_type": "code",
   "execution_count": 6,
   "metadata": {
    "scrolled": true
   },
   "outputs": [
    {
     "data": {
      "text/plain": [
       "KNeighborsClassifier(algorithm='auto', leaf_size=30, metric='minkowski',\n",
       "           metric_params=None, n_jobs=None, n_neighbors=3, p=2,\n",
       "           weights='uniform')"
      ]
     },
     "execution_count": 6,
     "metadata": {},
     "output_type": "execute_result"
    }
   ],
   "source": [
    "Classifier3N = KNeighborsClassifier(n_neighbors = 3)\n",
    "Classifier3N.fit(trainX,trainY)"
   ]
  },
  {
   "cell_type": "markdown",
   "metadata": {},
   "source": [
    "<h3>Оценка качества обучения</h3>"
   ]
  },
  {
   "cell_type": "code",
   "execution_count": 7,
   "metadata": {},
   "outputs": [
    {
     "name": "stdout",
     "output_type": "stream",
     "text": [
      "Классификатор с 3 соседями: 89.6359 %\n"
     ]
    }
   ],
   "source": [
    "Nb3Score = round(Classifier3N.score(testX,testY)*100, 4)\n",
    "print('Классификатор с 3 соседями: {} %'.format(Nb3Score))"
   ]
  },
  {
   "cell_type": "code",
   "execution_count": 8,
   "metadata": {},
   "outputs": [
    {
     "data": {
      "text/plain": [
       "0.896358543417367"
      ]
     },
     "execution_count": 8,
     "metadata": {},
     "output_type": "execute_result"
    }
   ],
   "source": [
    "Results3N = Classifier3N.predict(testX)\n",
    "accuracy_score(testY, Results3N)"
   ]
  },
  {
   "cell_type": "markdown",
   "metadata": {},
   "source": [
    "<h3>Рез. для каждого класса</h3>"
   ]
  },
  {
   "cell_type": "code",
   "execution_count": 9,
   "metadata": {},
   "outputs": [
    {
     "name": "stdout",
     "output_type": "stream",
     "text": [
      "Результат для класса 0: 95.3975 %\n",
      "Результат для класса 1: 77.9661 %\n"
     ]
    }
   ],
   "source": [
    "resultDF = {\n",
    "        'Prediction': Results3N,\n",
    "        'Answer': testY\n",
    "}\n",
    "ResultData = pd.DataFrame(resultDF, columns = ['Prediction','Answer'])\n",
    "Classes = np.unique(testY)\n",
    "for c in Classes:\n",
    "    temp_data_flt = ResultData[ResultData['Answer']==c]\n",
    "    temp_acc = accuracy_score(\n",
    "        temp_data_flt['Answer'].values, \n",
    "        temp_data_flt['Prediction'].values)\n",
    "    print('Результат для класса {0}: {1} %'.format(c, round(temp_acc*100, 4)))"
   ]
  },
  {
   "cell_type": "code",
   "execution_count": 10,
   "metadata": {},
   "outputs": [
    {
     "name": "stdout",
     "output_type": "stream",
     "text": [
      "\n",
      "Class : 0\n",
      "   precision : \t0.8976377952755905\n",
      "   recall : \t0.9539748953974896\n",
      "   f1-score : \t0.9249492900608519\n",
      "   support : \t239\n",
      "\n",
      "Class : 1\n",
      "   precision : \t0.8932038834951457\n",
      "   recall : \t0.7796610169491526\n",
      "   f1-score : \t0.8325791855203619\n",
      "   support : \t118\n",
      "\n",
      "Class : micro avg\n",
      "   precision : \t0.896358543417367\n",
      "   recall : \t0.896358543417367\n",
      "   f1-score : \t0.896358543417367\n",
      "   support : \t357\n",
      "\n",
      "Class : macro avg\n",
      "   precision : \t0.8954208393853681\n",
      "   recall : \t0.8668179561733211\n",
      "   f1-score : \t0.8787642377906069\n",
      "   support : \t357\n",
      "\n",
      "Class : weighted avg\n",
      "   precision : \t0.8961722446030624\n",
      "   recall : \t0.896358543417367\n",
      "   f1-score : \t0.8944179950026508\n",
      "   support : \t357\n"
     ]
    }
   ],
   "source": [
    "ClassReport3N = classification_report(testY, Results3N, output_dict = True)\n",
    "for ReportName,ReportResult in ClassReport3N.items():\n",
    "    print('\\nClass :',ReportName)\n",
    "    for result0, result1 in ReportResult.items():\n",
    "        print('   {0} : \\t{1}'.format(result0, result1))"
   ]
  },
  {
   "cell_type": "markdown",
   "metadata": {},
   "source": [
    "<h3>Кросс-валидация</h3>"
   ]
  },
  {
   "cell_type": "code",
   "execution_count": 13,
   "metadata": {},
   "outputs": [
    {
     "name": "stdout",
     "output_type": "stream",
     "text": [
      "Результаты нестратифицированной перекрёстной проверки:\n",
      "    65.6566 %\n",
      "    74.4949 %\n",
      "    74.9367 %\n",
      "Средний результат нестратифицированной перекрёстной проверки: 71.6961 %\n",
      "\n",
      "Результаты стратифицированной перекрёстной проверки:\n",
      "    81.5657 %\n",
      "    82.5758 %\n",
      "    86.5823 %\n",
      "Средний результат стратифицированной перекрёстной проверки: 83.5746 %\n"
     ]
    }
   ],
   "source": [
    "# Стратифицированная K-Fold перекрёстная проверка\n",
    "Scores1 = cross_val_score(Classifier3N, data[['Weight','Age','Seasons in league', 'Real_value']],data['Real_value'], cv = 3)\n",
    "print('Результаты нестратифицированной перекрёстной проверки:')\n",
    "for Sc in Scores1:\n",
    "    print('    {} %'.format(round(Sc*100,4)))\n",
    "print('Средний результат нестратифицированной перекрёстной проверки: {} %\\n'.format(round(Scores1.mean()*100,4)))\n",
    "# Применим стратифицированную перекрёстную проверку\n",
    "kfold = KFold(n_splits = 3, shuffle = True, random_state=0)\n",
    "KFoldStartTime = time.time()\n",
    "Scores2 = cross_val_score(Classifier3N, data[['Weight','Age','Seasons in league', 'Real_value']],data['Real_value'], cv = kfold)\n",
    "KFoldStopTime = time.time()\n",
    "print('Результаты стратифицированной перекрёстной проверки:')\n",
    "for Sc in Scores2:\n",
    "    print('    {} %'.format(round(Sc*100,4)))\n",
    "print('Средний результат стратифицированной перекрёстной проверки: {} %'.format(round(Scores2.mean()*100,4)))"
   ]
  },
  {
   "cell_type": "code",
   "execution_count": 14,
   "metadata": {
    "scrolled": true
   },
   "outputs": [
    {
     "name": "stdout",
     "output_type": "stream",
     "text": [
      "Средний результат перекрёстной проверки  с исключением по одному: 90.1432 %\n",
      "Время выполнения стратифицированной перекрёстной проверки:0.021 с\n",
      "Время выполнения перекрёстной проверки с исключением по одному:4.0548 с\n"
     ]
    }
   ],
   "source": [
    "# Перекрёстная проверка с исключением по одному\n",
    "loo = LeaveOneOut()\n",
    "LOOStartTime = time.time()\n",
    "Scores3 = cross_val_score(Classifier3N, data[['Weight','Age','Seasons in league', 'Real_value']],data['Real_value'], cv = loo)\n",
    "LOOStopTime = time.time()\n",
    "print('Средний результат перекрёстной проверки  с исключением по одному: {} %'.format(round(Scores3.mean()*100,4)))\n",
    "print('Время выполнения стратифицированной перекрёстной проверки:{} с'.format(round(KFoldStopTime-KFoldStartTime,4)))\n",
    "print('Время выполнения перекрёстной проверки с исключением по одному:{} с'.format(round(LOOStopTime-LOOStartTime,4)))"
   ]
  },
  {
   "cell_type": "markdown",
   "metadata": {},
   "source": [
    "<h3>GridSearchCV</h3>"
   ]
  },
  {
   "cell_type": "code",
   "execution_count": 15,
   "metadata": {},
   "outputs": [
    {
     "data": {
      "text/plain": [
       "GridSearchCV(cv=LeaveOneOut(), error_score='raise-deprecating',\n",
       "       estimator=KNeighborsClassifier(algorithm='auto', leaf_size=30, metric='minkowski',\n",
       "           metric_params=None, n_jobs=None, n_neighbors=5, p=2,\n",
       "           weights='uniform'),\n",
       "       fit_params=None, iid='warn', n_jobs=None,\n",
       "       param_grid=[{'n_neighbors': array([ 1,  2,  3,  4,  5,  6,  7,  8,  9, 10, 11, 12, 13, 14, 15])}],\n",
       "       pre_dispatch='2*n_jobs', refit=True, return_train_score='warn',\n",
       "       scoring='accuracy', verbose=0)"
      ]
     },
     "execution_count": 15,
     "metadata": {},
     "output_type": "execute_result"
    }
   ],
   "source": [
    "# Оптимизаия гиперпараметров\n",
    "NeighborsArr = np.array(range(1,16))\n",
    "tuned_parameters = [{'n_neighbors':NeighborsArr}]\n",
    "ClassifierGS = GridSearchCV(KNeighborsClassifier(), tuned_parameters, cv=loo, scoring='accuracy')\n",
    "ClassifierGS.fit(data[['Weight','Age','Seasons in league', 'Real_value']],data['Real_value'])"
   ]
  },
  {
   "cell_type": "code",
   "execution_count": 16,
   "metadata": {
    "scrolled": true
   },
   "outputs": [
    {
     "name": "stdout",
     "output_type": "stream",
     "text": [
      "\n",
      "Class : 0\n",
      "   precision : \t0.912\n",
      "   recall : \t0.9539748953974896\n",
      "   f1-score : \t0.9325153374233129\n",
      "   support : \t239\n",
      "\n",
      "Class : 1\n",
      "   precision : \t0.897196261682243\n",
      "   recall : \t0.8135593220338984\n",
      "   f1-score : \t0.8533333333333333\n",
      "   support : \t118\n",
      "\n",
      "Class : micro avg\n",
      "   precision : \t0.907563025210084\n",
      "   recall : \t0.907563025210084\n",
      "   f1-score : \t0.907563025210084\n",
      "   support : \t357\n",
      "\n",
      "Class : macro avg\n",
      "   precision : \t0.9045981308411215\n",
      "   recall : \t0.883767108715694\n",
      "   f1-score : \t0.8929243353783232\n",
      "   support : \t357\n",
      "\n",
      "Class : weighted avg\n",
      "   precision : \t0.907106887614859\n",
      "   recall : \t0.907563025210084\n",
      "   f1-score : \t0.9063431343907705\n",
      "   support : \t357\n"
     ]
    }
   ],
   "source": [
    "GSBP = ClassifierGS.best_params_.get('n_neighbors')\n",
    "ClassifierGSBP = KNeighborsClassifier(n_neighbors = GSBP)\n",
    "ClassifierGSBP.fit(trainX,trainY)\n",
    "ResultsGSBP = ClassifierGSBP.predict(testX)\n",
    "ClassReport5N = classification_report(testY, ResultsGSBP, output_dict = True)\n",
    "for ReportName,ReportResult in ClassReport5N.items():\n",
    "    print('\\nClass :',ReportName)\n",
    "    for result0, result1 in ReportResult.items():\n",
    "        print('   {0} : \\t{1}'.format(result0, result1))"
   ]
  },
  {
   "cell_type": "markdown",
   "metadata": {},
   "source": [
    "<h3>Кривые обучения и валидации</h3>"
   ]
  },
  {
   "cell_type": "code",
   "execution_count": 17,
   "metadata": {},
   "outputs": [],
   "source": [
    "def plot_learning_curve(estimator, title, X, y, ylim=None, cv=None,\n",
    "                        n_jobs=None, train_sizes=np.linspace(.1, 1.0, 5)):\n",
    "    plt.figure()\n",
    "    plt.title(title)\n",
    "    if ylim is not None:\n",
    "        plt.ylim(*ylim)\n",
    "    plt.xlabel(\"Training examples\")\n",
    "    plt.ylabel(\"Score\")\n",
    "    train_sizes, train_scores, test_scores = learning_curve(\n",
    "        estimator, X, y, cv=cv, n_jobs=n_jobs, train_sizes=train_sizes)\n",
    "    train_scores_mean = np.mean(train_scores, axis=1)\n",
    "    train_scores_std = np.std(train_scores, axis=1)\n",
    "    test_scores_mean = np.mean(test_scores, axis=1)\n",
    "    test_scores_std = np.std(test_scores, axis=1)\n",
    "    plt.grid()\n",
    "\n",
    "    plt.fill_between(train_sizes, train_scores_mean - train_scores_std,\n",
    "                     train_scores_mean + train_scores_std, alpha=0.1,\n",
    "                     color=\"r\")\n",
    "    plt.fill_between(train_sizes, test_scores_mean - test_scores_std,\n",
    "                     test_scores_mean + test_scores_std, alpha=0.1, color=\"g\")\n",
    "    plt.plot(train_sizes, train_scores_mean, 'o-', color=\"r\",\n",
    "             label=\"Training score\")\n",
    "    plt.plot(train_sizes, test_scores_mean, 'o-', color=\"g\",\n",
    "             label=\"Cross-validation score\")\n",
    "\n",
    "    plt.legend(loc=\"best\")\n",
    "    return plt"
   ]
  },
  {
   "cell_type": "code",
   "execution_count": 18,
   "metadata": {},
   "outputs": [
    {
     "data": {
      "text/plain": [
       "<module 'matplotlib.pyplot' from 'C:\\\\Users\\\\stud61\\\\Anaconda3\\\\lib\\\\site-packages\\\\matplotlib\\\\pyplot.py'>"
      ]
     },
     "execution_count": 18,
     "metadata": {},
     "output_type": "execute_result"
    },
    {
     "data": {
      "image/png": "[encoded data removed]",
      "text/plain": [
       "<Figure size 432x288 with 1 Axes>"
      ]
     },
     "metadata": {
      "needs_background": "light"
     },
     "output_type": "display_data"
    }
   ],
   "source": [
    "plot_learning_curve(KNeighborsClassifier(n_neighbors=5), 'n_neighbors={}'.format(5), \n",
    "                    trainX, trainY, cv=20)"
   ]
  },
  {
   "cell_type": "code",
   "execution_count": 19,
   "metadata": {},
   "outputs": [],
   "source": [
    "def plot_validation_curve(estimator, title, X, y, \n",
    "                          param_name, param_range, cv, \n",
    "                          scoring=\"accuracy\"):\n",
    "                                                   \n",
    "    train_scores, test_scores = validation_curve(\n",
    "        estimator, X, y, param_name=param_name, param_range=param_range,\n",
    "        cv=cv, scoring=scoring, n_jobs=1)\n",
    "    train_scores_mean = np.mean(train_scores, axis=1)\n",
    "    train_scores_std = np.std(train_scores, axis=1)\n",
    "    test_scores_mean = np.mean(test_scores, axis=1)\n",
    "    test_scores_std = np.std(test_scores, axis=1)\n",
    "\n",
    "    plt.title(title)\n",
    "    plt.xlabel(param_name)\n",
    "    plt.ylabel(\"Score\")\n",
    "    plt.ylim(0.0, 1.1)\n",
    "    lw = 2\n",
    "    plt.plot(param_range, train_scores_mean, label=\"Training score\",\n",
    "                 color=\"darkorange\", lw=lw)\n",
    "    plt.fill_between(param_range, train_scores_mean - train_scores_std,\n",
    "                     train_scores_mean + train_scores_std, alpha=0.2,\n",
    "                     color=\"darkorange\", lw=lw)\n",
    "    plt.plot(param_range, test_scores_mean, label=\"Cross-validation score\",\n",
    "                 color=\"navy\", lw=lw)\n",
    "    plt.fill_between(param_range, test_scores_mean - test_scores_std,\n",
    "                     test_scores_mean + test_scores_std, alpha=0.2,\n",
    "                     color=\"navy\", lw=lw)\n",
    "    plt.legend(loc=\"best\")\n",
    "    return plt"
   ]
  },
  {
   "cell_type": "code",
   "execution_count": 20,
   "metadata": {
    "scrolled": true
   },
   "outputs": [
    {
     "data": {
      "text/plain": [
       "<module 'matplotlib.pyplot' from 'C:\\\\Users\\\\stud61\\\\Anaconda3\\\\lib\\\\site-packages\\\\matplotlib\\\\pyplot.py'>"
      ]
     },
     "execution_count": 20,
     "metadata": {},
     "output_type": "execute_result"
    },
    {
     "data": {
      "image/png": "[encoded data removed]",
      "text/plain": [
       "<Figure size 432x288 with 1 Axes>"
      ]
     },
     "metadata": {
      "needs_background": "light"
     },
     "output_type": "display_data"
    }
   ],
   "source": [
    "plot_validation_curve(KNeighborsClassifier(), 'knn', \n",
    "                      trainX, trainY, \n",
    "                      param_name='n_neighbors', param_range=NeighborsArr, \n",
    "                      cv=20, scoring=\"accuracy\")"
   ]
  },
  {
   "cell_type": "code",
   "execution_count": null,
   "metadata": {},
   "outputs": [],
   "source": []
  }
 ],
 "metadata": {
  "kernelspec": {
   "display_name": "Python 3",
   "language": "python",
   "name": "python3"
  },
  "language_info": {
   "codemirror_mode": {
    "name": "ipython",
    "version": 3
   },
   "file_extension": ".py",
   "mimetype": "text/x-python",
   "name": "python",
   "nbconvert_exporter": "python",
   "pygments_lexer": "ipython3",
   "version": "3.7.1"
  }
 },
 "nbformat": 4,
 "nbformat_minor": 2
}
