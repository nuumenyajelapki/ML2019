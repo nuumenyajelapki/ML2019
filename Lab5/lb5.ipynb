{
 "cells": [
  {
   "cell_type": "code",
   "execution_count": 1,
   "metadata": {},
   "outputs": [],
   "source": [
    "import pandas as pd\n",
    "from sklearn.model_selection import train_test_split\n",
    "from sklearn.linear_model import LogisticRegression\n",
    "from sklearn.svm import SVC\n",
    "from sklearn.tree import DecisionTreeClassifier\n",
    "from sklearn.metrics import confusion_matrix, classification_report, accuracy_score\n",
    "from sklearn.model_selection import cross_val_score, cross_validate, KFold, LeaveOneOut, GridSearchCV"
   ]
  },
  {
   "cell_type": "code",
   "execution_count": 2,
   "metadata": {},
   "outputs": [
    {
     "data": {
      "text/plain": [
       "Serial No.             int64\n",
       "GRE Score              int64\n",
       "TOEFL Score            int64\n",
       "University Rating      int64\n",
       "SOP                  float64\n",
       "LOR                  float64\n",
       "CGPA                 float64\n",
       "Research               int64\n",
       "Chance of Admit      float64\n",
       "dtype: object"
      ]
     },
     "execution_count": 2,
     "metadata": {},
     "output_type": "execute_result"
    }
   ],
   "source": [
    "data = pd.read_csv('Admission_Predict.csv', sep=',')\n",
    "data.dtypes"
   ]
  },
  {
   "cell_type": "code",
   "execution_count": 3,
   "metadata": {},
   "outputs": [
    {
     "data": {
      "text/plain": [
       "Serial No.           0\n",
       "GRE Score            0\n",
       "TOEFL Score          0\n",
       "University Rating    0\n",
       "SOP                  0\n",
       "LOR                  0\n",
       "CGPA                 0\n",
       "Research             0\n",
       "Chance of Admit      0\n",
       "dtype: int64"
      ]
     },
     "execution_count": 3,
     "metadata": {},
     "output_type": "execute_result"
    }
   ],
   "source": [
    "data.isnull().sum()"
   ]
  },
  {
   "cell_type": "code",
   "execution_count": 6,
   "metadata": {},
   "outputs": [
    {
     "name": "stdout",
     "output_type": "stream",
     "text": [
      "Распределение классов:\n",
      "    Положительные: 54.75 % (219)\n",
      "    Отрицательные: 45.25 % (181)\n"
     ]
    }
   ],
   "source": [
    "Positive = data[data['Research'] == 1]['Research'].count()\n",
    "Negative = data.shape[0] - Positive\n",
    "print('Распределение классов:')\n",
    "print('    Положительные: {} % ({})'.format(round(Positive/data.shape[0]*100, 4),Positive))\n",
    "print('    Отрицательные: {} % ({})'.format(round(Negative/data.shape[0]*100, 4), Negative))"
   ]
  },
  {
   "cell_type": "code",
   "execution_count": 10,
   "metadata": {},
   "outputs": [],
   "source": [
    "TrainX,TestX,TrainY,TestY = train_test_split(data[['Serial No.','GRE Score','TOEFL Score','University Rating','SOP','CGPA']],data['Research'], test_size=0.3, random_state = 1)"
   ]
  },
  {
   "cell_type": "code",
   "execution_count": 11,
   "metadata": {},
   "outputs": [],
   "source": [
    "LogReg = LogisticRegression(C=10, solver='liblinear')\n",
    "SVCT = SVC(gamma = 10)\n",
    "DecTree = DecisionTreeClassifier(max_depth = 4)"
   ]
  },
  {
   "cell_type": "code",
   "execution_count": 12,
   "metadata": {},
   "outputs": [
    {
     "data": {
      "text/plain": [
       "DecisionTreeClassifier(class_weight=None, criterion='gini', max_depth=4,\n",
       "            max_features=None, max_leaf_nodes=None,\n",
       "            min_impurity_decrease=0.0, min_impurity_split=None,\n",
       "            min_samples_leaf=1, min_samples_split=2,\n",
       "            min_weight_fraction_leaf=0.0, presort=False, random_state=None,\n",
       "            splitter='best')"
      ]
     },
     "execution_count": 12,
     "metadata": {},
     "output_type": "execute_result"
    }
   ],
   "source": [
    "LogReg.fit(TrainX, TrainY)\n",
    "SVCT.fit(TrainX, TrainY)\n",
    "DecTree.fit(TrainX, TrainY)"
   ]
  },
  {
   "cell_type": "code",
   "execution_count": 13,
   "metadata": {},
   "outputs": [
    {
     "name": "stdout",
     "output_type": "stream",
     "text": [
      "0.7416666666666667\n",
      "0.575\n",
      "0.7166666666666667\n"
     ]
    }
   ],
   "source": [
    "Result = []\n",
    "Result.append(LogReg.predict(TestX))\n",
    "Result.append(SVCT.predict(TestX))\n",
    "Result.append(DecTree.predict(TestX))\n",
    "for res in Result:\n",
    "    print(accuracy_score(TestY,res))"
   ]
  },
  {
   "cell_type": "code",
   "execution_count": 14,
   "metadata": {},
   "outputs": [
    {
     "name": "stdout",
     "output_type": "stream",
     "text": [
      "[[38 13]\n",
      " [18 51]] \n",
      "\n",
      "[[ 0 51]\n",
      " [ 0 69]] \n",
      "\n",
      "[[44  7]\n",
      " [27 42]] \n",
      "\n"
     ]
    }
   ],
   "source": [
    "for res in Result:\n",
    "    print(confusion_matrix(TestY,res), '\\n')"
   ]
  },
  {
   "cell_type": "code",
   "execution_count": 15,
   "metadata": {},
   "outputs": [
    {
     "name": "stdout",
     "output_type": "stream",
     "text": [
      "              precision    recall  f1-score   support\n",
      "\n",
      "           0       0.68      0.75      0.71        51\n",
      "           1       0.80      0.74      0.77        69\n",
      "\n",
      "   micro avg       0.74      0.74      0.74       120\n",
      "   macro avg       0.74      0.74      0.74       120\n",
      "weighted avg       0.75      0.74      0.74       120\n",
      " \n",
      "\n",
      "              precision    recall  f1-score   support\n",
      "\n",
      "           0       0.00      0.00      0.00        51\n",
      "           1       0.57      1.00      0.73        69\n",
      "\n",
      "   micro avg       0.57      0.57      0.57       120\n",
      "   macro avg       0.29      0.50      0.37       120\n",
      "weighted avg       0.33      0.57      0.42       120\n",
      " \n",
      "\n",
      "              precision    recall  f1-score   support\n",
      "\n",
      "           0       0.62      0.86      0.72        51\n",
      "           1       0.86      0.61      0.71        69\n",
      "\n",
      "   micro avg       0.72      0.72      0.72       120\n",
      "   macro avg       0.74      0.74      0.72       120\n",
      "weighted avg       0.76      0.72      0.72       120\n",
      " \n",
      "\n"
     ]
    },
    {
     "name": "stderr",
     "output_type": "stream",
     "text": [
      "C:\\Users\\stud61\\Anaconda3\\lib\\site-packages\\sklearn\\metrics\\classification.py:1143: UndefinedMetricWarning: Precision and F-score are ill-defined and being set to 0.0 in labels with no predicted samples.\n",
      "  'precision', 'predicted', average, warn_for)\n"
     ]
    }
   ],
   "source": [
    "for res in Result:\n",
    "    print(classification_report(TestY,res), '\\n')"
   ]
  },
  {
   "cell_type": "code",
   "execution_count": 16,
   "metadata": {},
   "outputs": [],
   "source": [
    "CTP = [0.001,0.01,0.1,1,10,100,1000]\n",
    "GammaTP = [0.001,0.01,0.1,1,10,100,1000]\n",
    "DepthTP = [1,2,3,4,5,6,7,8,9,10]\n",
    "tuned_parameters = [{'C':CTP}]\n",
    "LogRegGS = GridSearchCV(LogisticRegression(solver='liblinear'), tuned_parameters, cv=LeaveOneOut(), scoring='accuracy')\n",
    "LogRegGS.fit(data[['Serial No.','GRE Score','TOEFL Score','University Rating','SOP','CGPA']]\n",
    "                 ,data['Research'])\n",
    "LogRegCBP = LogRegGS.best_params_.get('C')\n",
    "\n",
    "tuned_parameters = [{'gamma':GammaTP}]\n",
    "SVCGS = GridSearchCV(SVC(), tuned_parameters, cv=LeaveOneOut(), scoring='accuracy')\n",
    "SVCGS.fit(data[['Serial No.','GRE Score','TOEFL Score','University Rating','SOP','CGPA']]\n",
    "                 ,data['Research'])\n",
    "SVCGammaBP = SVCGS.best_params_.get('gamma')\n",
    "\n",
    "tuned_parameters = [{'max_depth':DepthTP}]\n",
    "DecTreeGS = GridSearchCV(DecisionTreeClassifier(), tuned_parameters, cv=LeaveOneOut(), scoring='accuracy')\n",
    "DecTreeGS.fit(data[['Serial No.','GRE Score','TOEFL Score','University Rating','SOP','CGPA']]\n",
    "                 ,data['Research'])\n",
    "DecTreeDepthBP = DecTreeGS.best_params_.get('max_depth')"
   ]
  },
  {
   "cell_type": "code",
   "execution_count": 17,
   "metadata": {},
   "outputs": [
    {
     "name": "stdout",
     "output_type": "stream",
     "text": [
      "Подобранные гиперпараметры:\n",
      "    Логистическая регрессия: параметр С:  1000\n",
      "    Метод Опорных Векторов: параметр gamma:  0.001\n",
      "    Дерево решений: параметр глубина:  1\n"
     ]
    }
   ],
   "source": [
    "print('Подобранные гиперпараметры:')\n",
    "print('    Логистическая регрессия: параметр С: ',LogRegCBP)\n",
    "print('    Метод Опорных Векторов: параметр gamma: ',SVCGammaBP)\n",
    "print('    Дерево решений: параметр глубина: ',DecTreeDepthBP)"
   ]
  },
  {
   "cell_type": "code",
   "execution_count": 18,
   "metadata": {},
   "outputs": [],
   "source": [
    "LogReg = LogisticRegression(C=LogRegCBP, solver='liblinear')\n",
    "SVCT = SVC(gamma = SVCGammaBP)\n",
    "DecTree = DecisionTreeClassifier(max_depth = DecTreeDepthBP)"
   ]
  },
  {
   "cell_type": "code",
   "execution_count": 19,
   "metadata": {},
   "outputs": [
    {
     "data": {
      "text/plain": [
       "DecisionTreeClassifier(class_weight=None, criterion='gini', max_depth=1,\n",
       "            max_features=None, max_leaf_nodes=None,\n",
       "            min_impurity_decrease=0.0, min_impurity_split=None,\n",
       "            min_samples_leaf=1, min_samples_split=2,\n",
       "            min_weight_fraction_leaf=0.0, presort=False, random_state=None,\n",
       "            splitter='best')"
      ]
     },
     "execution_count": 19,
     "metadata": {},
     "output_type": "execute_result"
    }
   ],
   "source": [
    "LogReg.fit(TrainX, TrainY)\n",
    "SVCT.fit(TrainX, TrainY)\n",
    "DecTree.fit(TrainX, TrainY)"
   ]
  },
  {
   "cell_type": "code",
   "execution_count": 20,
   "metadata": {},
   "outputs": [
    {
     "name": "stdout",
     "output_type": "stream",
     "text": [
      "0.775\n",
      "0.75\n",
      "0.7416666666666667\n"
     ]
    }
   ],
   "source": [
    "Result = []\n",
    "Result.append(LogReg.predict(TestX))\n",
    "Result.append(SVCT.predict(TestX))\n",
    "Result.append(DecTree.predict(TestX))\n",
    "for res in Result:\n",
    "    print(accuracy_score(TestY,res))"
   ]
  },
  {
   "cell_type": "code",
   "execution_count": 21,
   "metadata": {},
   "outputs": [
    {
     "name": "stdout",
     "output_type": "stream",
     "text": [
      "[[39 12]\n",
      " [15 54]] \n",
      "\n",
      "[[40 11]\n",
      " [19 50]] \n",
      "\n",
      "[[47  4]\n",
      " [27 42]] \n",
      "\n"
     ]
    }
   ],
   "source": [
    "for res in Result:\n",
    "    print(confusion_matrix(TestY,res), '\\n')"
   ]
  },
  {
   "cell_type": "code",
   "execution_count": 22,
   "metadata": {},
   "outputs": [
    {
     "name": "stdout",
     "output_type": "stream",
     "text": [
      "              precision    recall  f1-score   support\n",
      "\n",
      "           0       0.72      0.76      0.74        51\n",
      "           1       0.82      0.78      0.80        69\n",
      "\n",
      "   micro avg       0.78      0.78      0.78       120\n",
      "   macro avg       0.77      0.77      0.77       120\n",
      "weighted avg       0.78      0.78      0.78       120\n",
      " \n",
      "\n",
      "              precision    recall  f1-score   support\n",
      "\n",
      "           0       0.68      0.78      0.73        51\n",
      "           1       0.82      0.72      0.77        69\n",
      "\n",
      "   micro avg       0.75      0.75      0.75       120\n",
      "   macro avg       0.75      0.75      0.75       120\n",
      "weighted avg       0.76      0.75      0.75       120\n",
      " \n",
      "\n",
      "              precision    recall  f1-score   support\n",
      "\n",
      "           0       0.64      0.92      0.75        51\n",
      "           1       0.91      0.61      0.73        69\n",
      "\n",
      "   micro avg       0.74      0.74      0.74       120\n",
      "   macro avg       0.77      0.77      0.74       120\n",
      "weighted avg       0.79      0.74      0.74       120\n",
      " \n",
      "\n"
     ]
    }
   ],
   "source": [
    "for res in Result:\n",
    "    print(classification_report(TestY,res), '\\n')"
   ]
  }
 ],
 "metadata": {
  "kernelspec": {
   "display_name": "Python 3",
   "language": "python",
   "name": "python3"
  },
  "language_info": {
   "codemirror_mode": {
    "name": "ipython",
    "version": 3
   },
   "file_extension": ".py",
   "mimetype": "text/x-python",
   "name": "python",
   "nbconvert_exporter": "python",
   "pygments_lexer": "ipython3",
   "version": "3.7.1"
  }
 },
 "nbformat": 4,
 "nbformat_minor": 2
}
